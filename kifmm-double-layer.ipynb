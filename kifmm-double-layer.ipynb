{
 "cells": [
  {
   "cell_type": "code",
   "execution_count": 1,
   "metadata": {
    "collapsed": false
   },
   "outputs": [
    {
     "name": "stderr",
     "output_type": "stream",
     "text": [
      "INFO: Nothing to be done\n",
      "INFO: METADATA is out-of-date — you may not have the latest version of PyPlot\n",
      "INFO: Use `Pkg.update()` to get the latest versions of your packages\n",
      "INFO: Nothing to be done\n",
      "INFO: METADATA is out-of-date — you may not have the latest version of DataStructures\n",
      "INFO: Use `Pkg.update()` to get the latest versions of your packages\n",
      "INFO: Nothing to be done\n",
      "INFO: METADATA is out-of-date — you may not have the latest version of KrylovMethods\n",
      "INFO: Use `Pkg.update()` to get the latest versions of your packages\n",
      "INFO: Updating METADATA...\n",
      "INFO: Computing changes...\n",
      "INFO: No packages to install, update or remove\n"
     ]
    }
   ],
   "source": [
    "Pkg.add(\"PyPlot\")\n",
    "Pkg.add(\"DataStructures\")\n",
    "Pkg.add(\"KrylovMethods\")\n",
    "Pkg.update()"
   ]
  },
  {
   "cell_type": "code",
   "execution_count": 2,
   "metadata": {
    "collapsed": false
   },
   "outputs": [
    {
     "data": {
      "text/plain": [
       "getInversion (generic function with 1 method)"
      ]
     },
     "execution_count": 2,
     "metadata": {},
     "output_type": "execute_result"
    }
   ],
   "source": [
    "include(\"kernel.jl\")"
   ]
  },
  {
   "cell_type": "markdown",
   "metadata": {},
   "source": [
    "### Double layer problem\n",
    "\n",
    "The kernel is taken as ``r'*n / (r'*r)``, where ``r = x -y``. And nothing else changes."
   ]
  },
  {
   "cell_type": "code",
   "execution_count": 3,
   "metadata": {
    "collapsed": false
   },
   "outputs": [
    {
     "data": {
      "text/plain": [
       "g (generic function with 1 method)"
      ]
     },
     "execution_count": 3,
     "metadata": {},
     "output_type": "execute_result"
    }
   ],
   "source": [
    "k = KIFMM()\n",
    "N = 4000\n",
    "M = 4000\n",
    "source = zeros(N, 2)\n",
    "θ = 2 * π / N\n",
    "for i = 1:N\n",
    "    source[i, 1] = cos(i * θ)\n",
    "    source[i, 2] = sin(i * θ)\n",
    "end\n",
    "# for unit circle\n",
    "normal = source\n",
    "\n",
    "target=zeros(M,2)\n",
    "\n",
    "for j = 1:M\n",
    "    target[j, 1] = cos(j * θ)\n",
    "    target[j, 2] = sin(j * θ)\n",
    "end\n",
    "\n",
    "# use 1.0 as input, should return 0 outside and 1.0 inside.\n",
    "charge = ones(N)\n",
    "\n",
    "### kernel function for double layer\n",
    "function g(s, n, t)\n",
    "    r =  s-t\n",
    "    if (norm(r) < 1e-14)\n",
    "        return 0.\n",
    "    else\n",
    "        return dot(r,n)/dot(r,r)\n",
    "    end\n",
    "end"
   ]
  },
  {
   "cell_type": "markdown",
   "metadata": {},
   "source": [
    "### Initialize the kernel struct"
   ]
  },
  {
   "cell_type": "code",
   "execution_count": 4,
   "metadata": {
    "collapsed": false
   },
   "outputs": [
    {
     "name": "stdout",
     "output_type": "stream",
     "text": [
      "  1.575231 seconds (3.03 M allocations: 109.555 MB, 2.20% gc time)\n"
     ]
    }
   ],
   "source": [
    "@time initialize!(k, 24, source, normal, target, charge, N, M, 40, 10, g);"
   ]
  },
  {
   "cell_type": "markdown",
   "metadata": {},
   "source": [
    "### Run FMM"
   ]
  },
  {
   "cell_type": "code",
   "execution_count": 5,
   "metadata": {
    "collapsed": false
   },
   "outputs": [
    {
     "name": "stdout",
     "output_type": "stream",
     "text": [
      "  4.113438 seconds (26.30 M allocations: 838.431 MB, 3.16% gc time)\n"
     ]
    }
   ],
   "source": [
    "@time potential = FMM!(k);"
   ]
  },
  {
   "cell_type": "markdown",
   "metadata": {},
   "source": [
    "### Relative error"
   ]
  },
  {
   "cell_type": "code",
   "execution_count": 6,
   "metadata": {
    "collapsed": false
   },
   "outputs": [
    {
     "name": "stdout",
     "output_type": "stream",
     "text": [
      "elapsed time: 16.313541431 seconds\n"
     ]
    },
    {
     "data": {
      "text/plain": [
       "0.002615092516301373"
      ]
     },
     "execution_count": 6,
     "metadata": {},
     "output_type": "execute_result"
    }
   ],
   "source": [
    "tic()\n",
    "checkPotential = zeros(M)\n",
    "for i = 1:M\n",
    "    for j = 1:N\n",
    "        checkPotential[i] += k.kernel(k.tree.sourceTree[j,:], k.tree.normalTree[j,:], k.tree.targetTree[i,:])* k.chargeTree[j]\n",
    "    end\n",
    "end\n",
    "toc()\n",
    "norm(potential - checkPotential)/norm(checkPotential)"
   ]
  },
  {
   "cell_type": "markdown",
   "metadata": {},
   "source": [
    "### display"
   ]
  },
  {
   "cell_type": "code",
   "execution_count": 13,
   "metadata": {
    "collapsed": false
   },
   "outputs": [
    {
     "data": {
      "image/png": "[encoded data removed]",
      "text/plain": [
       "PyPlot.Figure(PyObject <matplotlib.figure.Figure object at 0x7fa202806e50>)"
      ]
     },
     "metadata": {},
     "output_type": "display_data"
    }
   ],
   "source": [
    "display(k.tree, [75, 43]);"
   ]
  },
  {
   "cell_type": "markdown",
   "metadata": {},
   "source": [
    "### GMRES"
   ]
  },
  {
   "cell_type": "code",
   "execution_count": 8,
   "metadata": {
    "collapsed": false
   },
   "outputs": [],
   "source": [
    "using KrylovMethods"
   ]
  },
  {
   "cell_type": "code",
   "execution_count": 9,
   "metadata": {
    "collapsed": false
   },
   "outputs": [
    {
     "data": {
      "text/plain": [
       "A (generic function with 1 method)"
      ]
     },
     "execution_count": 9,
     "metadata": {},
     "output_type": "execute_result"
    }
   ],
   "source": [
    "function A(x)\n",
    "    initialize!(k, 24, source, normal, target, x, N, M, 40, 10, g);\n",
    "    return 0.5 * x + FMM!(k)/N\n",
    "end\n",
    "    "
   ]
  },
  {
   "cell_type": "code",
   "execution_count": 10,
   "metadata": {
    "collapsed": false
   },
   "outputs": [
    {
     "name": "stdout",
     "output_type": "stream",
     "text": [
      " 13.231484 seconds (134.43 M allocations: 4.153 GB, 5.90% gc time)\n"
     ]
    }
   ],
   "source": [
    "testCharge = rand(N)\n",
    "@time y = gmres(A, testCharge, 30,tol=1e-12);"
   ]
  },
  {
   "cell_type": "markdown",
   "metadata": {},
   "source": [
    "### Convergence rate of GMRES"
   ]
  },
  {
   "cell_type": "code",
   "execution_count": 12,
   "metadata": {
    "collapsed": false
   },
   "outputs": [
    {
     "data": {
      "image/png": "[encoded data removed]",
      "text/plain": [
       "PyPlot.Figure(PyObject <matplotlib.figure.Figure object at 0x7fa206cb3f50>)"
      ]
     },
     "metadata": {},
     "output_type": "display_data"
    }
   ],
   "source": [
    "plot(1:5, log10(y[5]),\"b\",color=\"red\", linewidth=2.0, linestyle=\"--\");scatter(1:5, log10(y[5]));"
   ]
  },
  {
   "cell_type": "code",
   "execution_count": null,
   "metadata": {
    "collapsed": true
   },
   "outputs": [],
   "source": []
  }
 ],
 "metadata": {
  "kernelspec": {
   "display_name": "Julia 0.5.0",
   "language": "julia",
   "name": "julia-0.5"
  },
  "language_info": {
   "file_extension": ".jl",
   "mimetype": "application/julia",
   "name": "julia",
   "version": "0.5.0"
  }
 },
 "nbformat": 4,
 "nbformat_minor": 0
}
